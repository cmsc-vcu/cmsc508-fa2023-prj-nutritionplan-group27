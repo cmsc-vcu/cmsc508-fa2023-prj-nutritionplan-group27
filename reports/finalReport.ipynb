{
  "cells": [
    {
      "cell_type": "raw",
      "metadata": {},
      "source": [
        "---\n",
        "title: Phase 1 Deliverable \n",
        "date: 10-13-2024\n",
        "author: Zachariah Dellimore, Suhas Narayanan, Jeffi Thomas\n",
        "format:\n",
        "    html:\n",
        "        theme: cosmo\n",
        "        toc: false\n",
        "        embed-resources: true\n",
        "---"
      ],
      "id": "26a4dca6"
    },
    {
      "cell_type": "markdown",
      "metadata": {},
      "source": [
        "1. Useful Links\n",
        "    * [Kaltura Video](TODO)\n",
        "    * [Repository](https://github.com/cmsc-vcu/cmsc508-fa2023-prj-nutritionplan-group27/tree/main)\n",
        "\n",
        "## Problem Description \n",
        "The rising trend in health and fitness has brought a keen focus on diet and nutrition, which is often considered the most challenging aspect of maintaining good health. With countless general websites, programs, and videos available online, many people find it difficult to stick to a diet, mainly due to its lack of personalization, leading to disinterest, impracticality, or unsatisfactory results. An effective nutritional plan must be tailored to each individual, taking into account their lifestyle, objectives, and health conditions. This need is amplified by the overwhelming amount of information available, often with conflicting advice, making it hard to find a suitable plan. Our nutritional database addresses this issue by factoring in dietary restrictions, allergies, health objectives, personal lifestyle, and meal preferences to create a nutritional plan that is not only sustainable and effective but also enjoyable.\n",
        "\n",
        "### Crows Foot Diagram\n",
        "The following Crows Foot diagram represents the relationships between the the users, mealplans, recipes, and goals.\n",
        "\n",
        "```{mermaid}\n",
        "erDiagram\n",
        "users ||--|o mealplans : eats\n",
        "users ||--|o goals : has\n",
        "mealplans }|--}| recipes : contain\n",
        "\n",
        "\n",
        "goals{\n",
        "  PRIMARY_KEY id\n",
        "  string name\n",
        "  string description\n",
        "}\n",
        "\n",
        "mealplans {\n",
        "  PRIMARY_KEY id\n",
        "  string name\n",
        "}\n",
        "recipes {\n",
        "  PRIMARY_KEY id\n",
        "  string name\n",
        "  int calories\n",
        "  string ingredients\n",
        "  string instructions\n",
        "}\n",
        "users {\n",
        "  PRIMARY_KEY id\n",
        "  string username\n",
        "  string password\n",
        "  string about_me\n",
        "  FOREIGN_KEY mealplan_id\n",
        "  FOREIGN_KEY goal_id\n",
        "}\n",
        "```\n",
        "\n",
        "\n",
        "### DDL File Report\n",
        "The ddl.sql file was utilzed to create mealplans,recipes, mealplanrecipes, goals, and users tables as well as their corresponding primary keys, foreign keys, and entity specific attributes. The dml.sql file was utilzed to insert the actual information into these tables using the \"insert into [insert table (name)] values [table values]\". The next few following sections explain user functionality and how to create, update, and delete data in the tables. These files are found at this [link](https://github.com/cmsc-vcu/cmsc508-fa2023-prj-nutritionplan-group27/tree/main/src/sql)\n",
        "\n",
        "## API Definition\n",
        "Our API has many different methods depending on which topic you are searching for. To access the api the user must first create a new user by going to the /create/user url and put their newly created username and password as argument variables in their api request. Creating a user is the only action a user can do without having a valid username and password in their header variables.\n",
        "\n",
        "### Arguments\n",
        "1. 'page': Int argument to get the specified page of data. The page argument has a default value of 1 but if the user wants to go to the second page they would put 2 for the page argument. \n",
        "Example: /recipes?page=2\n",
        "\n",
        "2. 'direction': Int argument to reverse the order of what is returned by the API. Input 1 to reverse the order.\n",
        "Example: /recipes?direction=1\n",
        "\n",
        "3. 'username': String only used when creating a new user to set the new user's username\n",
        "\n",
        "4. 'password': String only used when creating a new user to set the new user's password\n",
        "\n",
        "### Headers\n",
        "1. 'username' (required): String of user's account's username\n",
        "1. 'password' (required): String of user's account's password\n",
        "1. 'user-id' (optional): Int used on some routes to find a user by their id\n",
        "1. 'goal-id' (optional): Int used on some routes to find a goal by its id\n",
        "1. 'recipe-id' (optional): Int used on some routes to find a recipe by its id\n",
        "1. 'mealplan-id' (optional): Int used on some routes to find a mealplan by its id\n",
        "1. 'username' (optional): String used on some routes to find similar usernames\n",
        "1. 'aboutme' (optional): String used on some routes to find similar users with similar aboutmes\n",
        "1. 'search' (optional): String used on some routes to indicate what to search for\n",
        "1. 'exclude' (optional): Boolean used on some routes to find all rows that are not similar to the search header. Enter any value to be true, remove from header file to be false.\n",
        "1. 'limit' (optional): Int used on some routes to find numerical values above/below the limit\n",
        "1. 'greater_than' (optional): Boolean used on some routes to either find the values above/below the limit\n",
        "1. 'new-username' (optional): String used on the update route to update the current users username\n",
        "1. 'new-password' (optional): String used on the update route to update the current users password\n",
        "1. 'new-aboutme' (optional): String used on the update route to update the current users about me\n",
        "1. 'new-mealplan' (optional): Int used on the update route to update the current users mealplan\n",
        "1. 'new-goal' (optional): Int used on the update route to update the current users goal\n",
        "1. 'recipe-name' (required in some): String used in the /create/recipe route to set the new recipe's name\n",
        "1. 'recipe-calories' (required in some): Int used in the /create/recipe route to set the new recipe's calorie count\n",
        "1. 'recipe-ingredients' (required in some): String used in the /create/recipe route to set the new recipe's ingredients\n",
        "1. 'recipe-instructions' (required in some): String used in the /create/recipe route to set the new recipe's instructions\n",
        "\n",
        "### Create\n",
        "To access this functionality you use the /create/ url with either user or recipe appended to it. We only allow people to create users and recipes for simplicity and because it is all a user would ever need to do. \n",
        "\n",
        "1. /create/user: Requires the username and password arguments to create a new user and add it to the database.\n",
        "\n",
        "Example url: /create/user?username=NewUsername&password=NewPassword\n",
        "\n",
        "Query: "
      ],
      "id": "f4127e12"
    },
    {
      "cell_type": "code",
      "metadata": {},
      "source": [
        "#| eval: false\n",
        "#| echo: true\n",
        "query = f\"\"\"\n",
        "        insert into `users`\n",
        "        (`username`, `password`) \n",
        "        values (\"{username}\", \"{password}\");\n",
        "        \"\"\""
      ],
      "id": "3cfb8d4c",
      "execution_count": null,
      "outputs": []
    },
    {
      "cell_type": "markdown",
      "metadata": {},
      "source": [
        "2. /create/recipe: This route requires the name, calories, ingredients, and instructions headers. It will return whether it created an error or whether your recipe was created successfully.\n",
        "\n",
        "    Example header: \n",
        "    {\n",
        "            \n",
        "            'username': '[Your Username]',\n",
        "\n",
        "            'password': '[Your Password]',\n",
        "            \n",
        "            'recipe-name': '[Recipe Name]',\n",
        "\n",
        "            'calories': '[Calorie Count]',\n",
        "\n",
        "            'ingredients': '[Ingredients]',\n",
        "\n",
        "            'instructions': '[Instructions]'\n",
        "    }\n",
        "\n",
        "Query: "
      ],
      "id": "534eefdf"
    },
    {
      "cell_type": "code",
      "metadata": {},
      "source": [
        "#| eval: false\n",
        "#| echo: true\n",
        "query = f\"\"\"\n",
        "        insert into `recipes`\n",
        "        (`name`, `calories`, `ingredients`, `instructions`) \n",
        "        values (\"{name}\", \"{calories}\", \"{ingredients}\", \"{instructions}\");\n",
        "        \"\"\""
      ],
      "id": "fb5b22b4",
      "execution_count": null,
      "outputs": []
    },
    {
      "cell_type": "markdown",
      "metadata": {},
      "source": [
        "### Update\n",
        "1. /update/user: Requires one or more of the following headers: new-username, new-password, new-about-me, new-mealplan, new-goal\n",
        "\n",
        "    Example header: \n",
        "    {\n",
        "        \n",
        "        'username': '[Your Username]',\n",
        "\n",
        "        'password': '[Your Password]',\n",
        "\n",
        "        ‘new-password’: ‘[New Password]’\n",
        "    }\n",
        "\n",
        "Query: "
      ],
      "id": "2c5c8127"
    },
    {
      "cell_type": "code",
      "metadata": {},
      "source": [
        "#| eval: false\n",
        "#| echo: true\n",
        "query = f\"\"\"\n",
        "        UPDATE users\n",
        "        SET username = '{new_username}'\n",
        "        WHERE users.username = '{username}';\n",
        "        \"\"\""
      ],
      "id": "c0d9ea20",
      "execution_count": null,
      "outputs": []
    },
    {
      "cell_type": "markdown",
      "metadata": {},
      "source": [
        "### Delete\n",
        "Currently we only support a user deleting theirself\n",
        "\n",
        "1. /delete/user: Will delete the users account using the username and password in the header.\n",
        "\n",
        "Query: "
      ],
      "id": "41f9ef5c"
    },
    {
      "cell_type": "code",
      "metadata": {},
      "source": [
        "#| eval: false\n",
        "#| echo: true\n",
        "query=f\"\"\"\n",
        "        DELETE FROM\n",
        "        users\n",
        "        WHERE username = '{username}';\n",
        "        \"\"\""
      ],
      "id": "f8742803",
      "execution_count": null,
      "outputs": []
    },
    {
      "cell_type": "markdown",
      "metadata": {},
      "source": [
        "### Users\n",
        "Currently we only support a user updating their own personal user values\n",
        "\n",
        "1. /users: This route takes in the standard arguments as well as the header ‘user-id’ which is an integer. If user-id is not given then the api returns all users sorted by their ids. If user-id is given it returns the user with that user-id.\n",
        "\n",
        "Query: "
      ],
      "id": "fb4a34e6"
    },
    {
      "cell_type": "code",
      "metadata": {},
      "source": [
        "#| eval: false\n",
        "#| echo: true\n",
        "query = f\"\"\"\n",
        "        SELECT *\n",
        "        FROM users\n",
        "        \"\"\"\n",
        "        if(user_id != 0):\n",
        "            query += f\"WHERE users.id = {user_id}\"\n",
        "        query += f\"\"\"\n",
        "        ORDER BY users.id {direction}\n",
        "        LIMIT {page_size} OFFSET {(current_page - 1) * page_size};\"\"\""
      ],
      "id": "337c360a",
      "execution_count": null,
      "outputs": []
    },
    {
      "cell_type": "markdown",
      "metadata": {},
      "source": [
        "2. /users/goals: This route takes in the standard arguments as well as the header ‘goal-id’. If goal-id is not given by the user then it returns all users sorted by their goal-id. If the user does give goal-id it returns all users with that specific goal-id. If goal-id is less than 0 it will return all users without goals.\n",
        "\n",
        "Query: "
      ],
      "id": "b96ddb5f"
    },
    {
      "cell_type": "code",
      "metadata": {},
      "source": [
        "#| eval: false\n",
        "#| echo: true\n",
        "query = f\"\"\"\n",
        "        SELECT *\n",
        "        FROM users\n",
        "        \"\"\"\n",
        "        if(goal_id != 0):\n",
        "            if(goal_id < 0):\n",
        "                query += f\"WHERE users.goal_id IS NULL\"\n",
        "            else:\n",
        "                query += f\"WHERE users.goal_id = {goal_id}\"\n",
        "        query += f\"\"\"\n",
        "        ORDER BY users.goal_id {direction}\n",
        "        LIMIT {page_size} OFFSET {(current_page - 1) * page_size};\"\"\""
      ],
      "id": "03776760",
      "execution_count": null,
      "outputs": []
    },
    {
      "cell_type": "markdown",
      "metadata": {},
      "source": [
        "3. /users/mealplans: This route takes in the standard arguments as well as the header ‘mealplan-id’ which is an integer. If mealplan-id is not given the api returns all users sorted by their mealplan-id. If the user does give mealplan-id it returns all users with that specific mealplan-id. If mealplan-id is less than 0 it will return all users without mealplans.\n",
        "\n",
        "Query: "
      ],
      "id": "d15ceaf3"
    },
    {
      "cell_type": "code",
      "metadata": {},
      "source": [
        "#| eval: false\n",
        "#| echo: true\n",
        "query = f\"\"\"\n",
        "        SELECT *\n",
        "        FROM users\n",
        "        \"\"\"\n",
        "        if(mealplan_id != 0):\n",
        "            if(mealplan_id < 0):\n",
        "                query += f\"WHERE users.mealplan_id IS NULL\"\n",
        "            else:\n",
        "                query += f\"WHERE users.mealplan_id = {mealplan_id}\"\n",
        "        query += f\"\"\"\n",
        "        ORDER BY users.mealplan_id {direction}\n",
        "        LIMIT {page_size} OFFSET {(current_page - 1) * page_size};\"\"\""
      ],
      "id": "a5eae564",
      "execution_count": null,
      "outputs": []
    },
    {
      "cell_type": "markdown",
      "metadata": {},
      "source": [
        "4. /users/username: This route takes in the standard arguments as well as the header 'search' which is a string. If search is not given the api returns all users sorted by their search. If search is given then it returns all users with usernames similar to that string\n",
        "\n",
        "Query: "
      ],
      "id": "3d72c761"
    },
    {
      "cell_type": "code",
      "metadata": {},
      "source": [
        "#| eval: false\n",
        "#| echo: true\n",
        "query = f\"\"\"\n",
        "        SELECT *\n",
        "        FROM users\n",
        "        \"\"\"\n",
        "        if(username != \"\"):\n",
        "            query += f\"WHERE users.username LIKE '%{username}%'\"\n",
        "        query += f\"\"\"\n",
        "        ORDER BY users.username {direction}\n",
        "        LIMIT {page_size} OFFSET {(current_page - 1) * page_size};\"\"\""
      ],
      "id": "208fbae8",
      "execution_count": null,
      "outputs": []
    },
    {
      "cell_type": "markdown",
      "metadata": {},
      "source": [
        "5. /users/aboutme: This route takes in the standard arguments as well as the header ‘aboutme’ which is a string. If aboutme is not given it returns all users sorted by their about_me. If aboutme is given it returns all users with an about_me similar to the aboutme the user supplied.\n",
        "\n",
        "Query: "
      ],
      "id": "17a420b3"
    },
    {
      "cell_type": "code",
      "metadata": {},
      "source": [
        "#| eval: false\n",
        "#| echo: true\n",
        "query = f\"\"\"\n",
        "        SELECT *\n",
        "        FROM users\n",
        "        \"\"\"\n",
        "        if(search != \"\"):\n",
        "            exclusion = \"\" if(exclude == False) else \"NOT\"\n",
        "            query += f\"WHERE {exclusion} users.about_me LIKE '%{search}%'\"\n",
        "        query+= f\"\"\"\n",
        "        ORDER BY users.about_me {direction}\n",
        "        LIMIT {page_size} OFFSET {(current_page - 1) * page_size};\n",
        "        \"\"\""
      ],
      "id": "a316c9ac",
      "execution_count": null,
      "outputs": []
    },
    {
      "cell_type": "markdown",
      "metadata": {},
      "source": [
        "### Recipes\n",
        "1. /recipes: This route takes in the standard arguments as well as the ‘recipe-id’ header which is an integer. If the recipe-id header is not given then the API returns all recipes sorted by their id. If recipe-id is given then it returns the recipe with that id.\n",
        "\n",
        "Query: "
      ],
      "id": "ca93d10c"
    },
    {
      "cell_type": "code",
      "metadata": {},
      "source": [
        "#| eval: false\n",
        "#| echo: true\n",
        "query = f\"\"\"\n",
        "        SELECT *\n",
        "        FROM recipes\n",
        "        \"\"\"\n",
        "        if(recipe_id != 0):\n",
        "            query += f\"WHERE recipes.id = {recipe_id}\"\n",
        "        query+= f\"\"\"\n",
        "        ORDER BY recipes.id {direction}\n",
        "        LIMIT {page_size} OFFSET {(current_page - 1) * page_size};\n",
        "        \"\"\""
      ],
      "id": "8932b367",
      "execution_count": null,
      "outputs": []
    },
    {
      "cell_type": "markdown",
      "metadata": {},
      "source": [
        "2. /recipes/name: This route takes in the standard arguments as well as the headers ‘search’ and ‘exclude’. The API returns the recipes ordered by name.\n",
        "\n",
        "Query: "
      ],
      "id": "963d461f"
    },
    {
      "cell_type": "code",
      "metadata": {},
      "source": [
        "#| eval: false\n",
        "#| echo: true\n",
        "query = f\"\"\"\n",
        "        SELECT *\n",
        "        FROM recipes\n",
        "        \"\"\"\n",
        "        if(recipe != \"\"):\n",
        "            exclusion = \"\" if(exclude == False) else \"NOT\"\n",
        "            query += f\"WHERE {exclusion} recipes.name LIKE '%{recipe}%'\"\n",
        "        query+= f\"\"\"\n",
        "        ORDER BY recipes.name {direction}\n",
        "        LIMIT {page_size} OFFSET {(current_page - 1) * page_size};\n",
        "        \"\"\""
      ],
      "id": "551dea8b",
      "execution_count": null,
      "outputs": []
    },
    {
      "cell_type": "markdown",
      "metadata": {},
      "source": [
        "3. /recipes/calories: This route takes in the standard headers as well as the ‘search’, ‘exclude’, ‘limit’, and ‘greater_than’ headers. The API returns the recipes ordered by calories.\n",
        "\n",
        "Query: "
      ],
      "id": "f94b6c01"
    },
    {
      "cell_type": "code",
      "metadata": {},
      "source": [
        "#| eval: false\n",
        "#| echo: true\n",
        "query = f\"\"\"\n",
        "        SELECT *\n",
        "        FROM recipes\n",
        "        \"\"\"\n",
        "        if(recipe != \"\"):\n",
        "            exclusion = \"\" if(exclude == False) else \"NOT\"\n",
        "            query += f\"WHERE {exclusion} recipes.name LIKE '%{recipe}%'\"\n",
        "        query+= f\"\"\"\n",
        "        WHERE recipes.calories {symbol} {limit}\n",
        "        ORDER BY recipes.calories {direction}\n",
        "        LIMIT {page_size} OFFSET {(current_page - 1) * page_size};\n",
        "        \"\"\""
      ],
      "id": "dc9e5643",
      "execution_count": null,
      "outputs": []
    },
    {
      "cell_type": "markdown",
      "metadata": {},
      "source": [
        "4. /recipes/ingredients: This route takes in the standard arguments as well as the ‘search’ and ‘exclude’ headers. The API returns the recipes ordered by ingredients.\n",
        "\n",
        "Query: "
      ],
      "id": "f61a511a"
    },
    {
      "cell_type": "code",
      "metadata": {},
      "source": [
        "#| eval: false\n",
        "#| echo: true\n",
        "query = f\"\"\"\n",
        "        SELECT *\n",
        "        FROM recipes\n",
        "        \"\"\"\n",
        "        if(ingredient != \"\"):\n",
        "            exclusion = \"\" if(exclude == False) else \"NOT\"\n",
        "            query += f\"WHERE {exclusion} recipes.ingredients LIKE '%{ingredient}%'\"\n",
        "        query+= f\"\"\"\n",
        "        ORDER BY recipes.ingredients {direction}\n",
        "        LIMIT {page_size} OFFSET {(current_page - 1) * page_size};\n",
        "        \"\"\""
      ],
      "id": "d50aebd3",
      "execution_count": null,
      "outputs": []
    },
    {
      "cell_type": "markdown",
      "metadata": {},
      "source": [
        "5. /recipes/popularity: This route takes in the standard arguments as well as the 'recipe-id' headers. The API returns the recipes ordered by their popularity.\n",
        "\n",
        "Query: "
      ],
      "id": "33f66d18"
    },
    {
      "cell_type": "code",
      "metadata": {},
      "source": [
        "#| eval: false\n",
        "#| echo: true\n",
        "query = f\"\"\"\n",
        "        SELECT *\n",
        "        FROM recipes\n",
        "        \"\"\"\n",
        "        if(ingredient != \"\"):\n",
        "            exclusion = \"\" if(exclude == False) else \"NOT\"\n",
        "            query += f\"WHERE {exclusion} recipes.ingredients LIKE '%{ingredient}%'\"\n",
        "        query+= f\"\"\"\n",
        "        ORDER BY recipes.ingredients {direction}\n",
        "        LIMIT {page_size} OFFSET {(current_page - 1) * page_size};\n",
        "        \"\"\""
      ],
      "id": "70f0adc9",
      "execution_count": null,
      "outputs": []
    },
    {
      "cell_type": "markdown",
      "metadata": {},
      "source": [
        "### Mealplans\n",
        "1. /mealplans: This route takes in the standard arguments as well as the ‘mealplan-id’ header. If the mealplan-id header is not given then the API returns all mealplans sorted by their id. If mealplan-id is given then it returns the mealplan with that id.\n",
        "\n",
        "Query: "
      ],
      "id": "0d3e663a"
    },
    {
      "cell_type": "code",
      "metadata": {},
      "source": [
        "#| eval: false\n",
        "#| echo: true\n",
        "query = f\"\"\"\n",
        "            SELECT *\n",
        "            FROM mealplans\n",
        "            \"\"\"\n",
        "            if(mealplan_id != 0):\n",
        "                query+=f\"WHERE mealplans.id = {mealplan_id}\"\n",
        "            query+=f\"\"\"\n",
        "            ORDER BY mealplans.id {direction}\n",
        "            LIMIT {page_size} OFFSET {(current_page - 1) * page_size};\n",
        "            \"\"\""
      ],
      "id": "c00cbcd8",
      "execution_count": null,
      "outputs": []
    },
    {
      "cell_type": "markdown",
      "metadata": {},
      "source": [
        "2. /mealplans/recipe: This route takes in the standard arguments as well as the ‘mealplan-id’, and 'search' headers. the mealplan-id is required and the API will return with an error if one is not given. The search header is optional and lets you find recipes in the given mealplan. The API returns the found recipes ordered by name.\n",
        "\n",
        "Query: "
      ],
      "id": "9fd5a2ce"
    },
    {
      "cell_type": "code",
      "metadata": {},
      "source": [
        "#| eval: false\n",
        "#| echo: true\n",
        "query = f\"\"\"\n",
        "        SELECT *\n",
        "        FROM recipes\n",
        "        JOIN mealplanRecipes ON recipes.id = mealplanRecipes.recipe_id\n",
        "        WHERE mealplanRecipes.mealplan_id = {mealplan_id}\n",
        "        \"\"\"\n",
        "        \n",
        "        if recipe != None:\n",
        "            query += f\"AND recipes.name LIKE '%{recipe}%'\"\n",
        "            \n",
        "        query += f\"\"\"\n",
        "        ORDER BY recipes.name {direction}\n",
        "        LIMIT {page_size} OFFSET {(current_page - 1) * page_size};\n",
        "        \"\"\""
      ],
      "id": "47d1e939",
      "execution_count": null,
      "outputs": []
    },
    {
      "cell_type": "markdown",
      "metadata": {},
      "source": [
        "3. /mealplans/ingredients: This route takes in the standard arguments as well as the 'search' and 'exclude' headers. If search is not given it will return an error telling the user to give a search query. Exclude will return all mealplans without a certain ingredient. This endpoint returns the list ordered by mealplan name.\n",
        "\n",
        "Query: "
      ],
      "id": "291917c5"
    },
    {
      "cell_type": "code",
      "metadata": {},
      "source": [
        "#| eval: false\n",
        "#| echo: true\n",
        "query = f\"\"\"\n",
        "        SELECT m.id AS mealplan_id, m.name, COALESCE(popular_mealplans.mealplan_count, 0) AS times_used\n",
        "        FROM mealplans m\n",
        "        JOIN(\n",
        "            SELECT mealplan_id, count(mealplan_id) as mealplan_count\n",
        "            FROM users\n",
        "        \"\"\"\n",
        "        if(goal_id != 0):\n",
        "            exclusion = \"\" if(exclude == False) else \"NOT\"\n",
        "            query += f\"WHERE {exclusion} users.goal_id = {goal_id}\"\n",
        "        query+=f\"\"\"\n",
        "            GROUP BY mealplan_id\n",
        "            ORDER BY mealplan_count {direction}\n",
        "            LIMIT {page_size} OFFSET {(current_page - 1) * page_size}\n",
        "        ) AS popular_mealplans\n",
        "        ON m.id = popular_mealplans.mealplan_id\n",
        "        \"\"\"\n",
        "        if(mealplan_id != 0):\n",
        "            query += f\"WHERE m.id = {mealplan_id}\"\n",
        "        query+=f\"\"\"\n",
        "        ORDER BY times_used {direction};\n",
        "        \"\"\""
      ],
      "id": "9e724a98",
      "execution_count": null,
      "outputs": []
    },
    {
      "cell_type": "markdown",
      "metadata": {},
      "source": [
        "### Goals\n",
        "1. /goals: This route takes in the standard arguments as well as the 'goal-id' header. If goal-id is not provided it will return the list of goals sorted by id. If goal-id is provided then it will return the goal with that id.\n",
        "\n",
        "Query: "
      ],
      "id": "5c705329"
    },
    {
      "cell_type": "code",
      "metadata": {},
      "source": [
        "#| eval: false\n",
        "#| echo: true\n",
        "query = f\"\"\"\n",
        "        SELECT *\n",
        "        FROM goals\n",
        "        \"\"\"\n",
        "        if(goal_id != 0):\n",
        "            query+=f\"WHERE goals.id = {goal_id}\"\n",
        "        query+=f\"\"\"\n",
        "        ORDER BY goals.id {direction}\n",
        "        LIMIT {page_size} OFFSET {(current_page - 1) * page_size};\n",
        "        \"\"\""
      ],
      "id": "7c926e59",
      "execution_count": null,
      "outputs": []
    },
    {
      "cell_type": "markdown",
      "metadata": {},
      "source": [
        "2. /goals/name: This route takes in the standard arguments as well as the 'search' header. If search is not provided it will return the list of goals sorted by name. If search is provided it will return all goals with similar names to search.\n",
        "\n",
        "Query: "
      ],
      "id": "160fdbba"
    },
    {
      "cell_type": "code",
      "metadata": {},
      "source": [
        "#| eval: false\n",
        "#| echo: true\n",
        "query = f\"\"\"\n",
        "        SELECT *\n",
        "        FROM goals\n",
        "        \"\"\"\n",
        "        if(name != None):\n",
        "            query+= f\"\"\"\n",
        "            WHERE goals.name LIKE '%{name}%'\n",
        "            \"\"\"\n",
        "        query+=f\"\"\"\n",
        "        ORDER BY goals.name {direction}\n",
        "        LIMIT {page_size} OFFSET {(current_page - 1) * page_size};\n",
        "        \"\"\""
      ],
      "id": "288ec77d",
      "execution_count": null,
      "outputs": []
    },
    {
      "cell_type": "markdown",
      "metadata": {},
      "source": [
        "3. /goals/popularity: This route takes in the standard arguments as well as the 'goal-id', 'mealplan-id', and 'exclude' headers. If the goal-id is not given it will return the list of most popular goals sorted by their number of users which will be included in the return json. If goal-id is given it will return the goal with that goal-id and the number of users using that goal. If 'mealplan-id' is given it will return the goals sorted by the number of users who use the chose mealplan. The 'exclude' header reverses this and returns the most popular goal of users not using the specified mealplan.\n",
        "\n",
        "Query: "
      ],
      "id": "2bb35223"
    },
    {
      "cell_type": "code",
      "metadata": {},
      "source": [
        "#| eval: false\n",
        "#| echo: true\n",
        "query = f\"\"\"\n",
        "        SELECT g.id AS goal_id, g.name, g.description, COALESCE(popular_goals.goal_count, 0) AS times_used\n",
        "        FROM goals g\n",
        "        JOIN(\n",
        "            SELECT goal_id, count(goal_id) as goal_count\n",
        "            FROM users\n",
        "            \"\"\"\n",
        "        if(mealplan_id != 0):\n",
        "            exclusion = \"\" if(exclude == False) else \"NOT\"\n",
        "            query += f\"WHERE {exclusion} users.mealplan_id = {mealplan_id}\"\n",
        "        query+=f\"\"\"\n",
        "            GROUP BY goal_id\n",
        "            ORDER BY goal_count {direction}\n",
        "            LIMIT {page_size} OFFSET {(current_page - 1) * page_size}\n",
        "        ) AS popular_goals\n",
        "        ON g.id = popular_goals.goal_id\n",
        "        \"\"\"\n",
        "        if(goal_id != 0):\n",
        "            query += f\"WHERE g.id = {goal_id}\"\n",
        "        query+=f\"\"\"\n",
        "        ORDER BY times_used {direction};\n",
        "        \"\"\""
      ],
      "id": "71cdc57d",
      "execution_count": null,
      "outputs": []
    },
    {
      "cell_type": "markdown",
      "metadata": {},
      "source": [
        "## API in action"
      ],
      "id": "8e5bf606"
    },
    {
      "cell_type": "code",
      "metadata": {},
      "source": [
        "#| echo: false\n",
        "#| eval: true\n",
        "import requests, sys, pandas\n",
        "url = 'http://localhost:5000'"
      ],
      "id": "c23976fd",
      "execution_count": null,
      "outputs": []
    },
    {
      "cell_type": "markdown",
      "metadata": {},
      "source": [
        "### 1. Sort users by name alphabetically"
      ],
      "id": "1993a1fe"
    },
    {
      "cell_type": "code",
      "metadata": {},
      "source": [
        "headers = {\n",
        "    'username': 'dellimorez',\n",
        "    'password': 'password1'\n",
        "}\n",
        "response = requests.get(url+'/users/username', headers=headers)\n",
        "df = pandas.DataFrame.from_dict(response.json()['results'])\n",
        "df"
      ],
      "id": "d7012810",
      "execution_count": null,
      "outputs": []
    },
    {
      "cell_type": "markdown",
      "metadata": {},
      "source": [
        "### 2. List all users that have Eating Healthier as their goal"
      ],
      "id": "b0928087"
    },
    {
      "cell_type": "code",
      "metadata": {},
      "source": [
        "headers = {\n",
        "    'username': 'dellimorez',\n",
        "    'password': 'password1',\n",
        "    'goal-id': '6'\n",
        "}\n",
        "response = requests.get(url+'/users/goals', headers=headers)\n",
        "df = pandas.DataFrame.from_dict(response.json()['results'])\n",
        "df"
      ],
      "id": "809251fa",
      "execution_count": null,
      "outputs": []
    },
    {
      "cell_type": "markdown",
      "metadata": {},
      "source": [
        "### 3. List all recipes that contain the ingredient Rice"
      ],
      "id": "a9172c11"
    },
    {
      "cell_type": "code",
      "metadata": {},
      "source": [
        "headers = {\n",
        "    'username': 'dellimorez',\n",
        "    'password': 'password1',\n",
        "    'search': 'Rice'\n",
        "}\n",
        "response = requests.get(url+'/recipes/ingredients', headers=headers)\n",
        "df = pandas.DataFrame.from_dict(response.json()['results'])\n",
        "df"
      ],
      "id": "3d054e94",
      "execution_count": null,
      "outputs": []
    },
    {
      "cell_type": "markdown",
      "metadata": {},
      "source": [
        "### 4. List all the recipes that are less than 750 calories"
      ],
      "id": "f198e1a3"
    },
    {
      "cell_type": "code",
      "metadata": {},
      "source": [
        "headers = {\n",
        "    'username': 'dellimorez',\n",
        "    'password': 'password1',\n",
        "    'limit': '750'\n",
        "}\n",
        "response = requests.get(url+'/recipes/calories', headers=headers)\n",
        "df = pandas.DataFrame.from_dict(response.json()['results'])\n",
        "df"
      ],
      "id": "0f0db9b1",
      "execution_count": null,
      "outputs": []
    },
    {
      "cell_type": "markdown",
      "metadata": {},
      "source": [
        "### 5. List all the Meal Plans that do not contain rice"
      ],
      "id": "94906479"
    },
    {
      "cell_type": "code",
      "metadata": {},
      "source": [
        "headers = {\n",
        "    'username': 'tester',\n",
        "    'password': 'test',\n",
        "    'search': 'Rice',\n",
        "    'exclude': 'True'\n",
        "}\n",
        "response = requests.get(url+'/mealplans/ingredients', headers=headers)\n",
        "df = pandas.DataFrame.from_dict(response.json()['results'])\n",
        "df"
      ],
      "id": "d6ad18c6",
      "execution_count": null,
      "outputs": []
    },
    {
      "cell_type": "markdown",
      "metadata": {},
      "source": [
        "### 6. List the most popular Goals"
      ],
      "id": "c5752830"
    },
    {
      "cell_type": "code",
      "metadata": {},
      "source": [
        "headers = {\n",
        "    'username': 'tester',\n",
        "    'password': 'test'\n",
        "}\n",
        "response = requests.get(url+'/goals/popularity', headers=headers)\n",
        "df = pandas.DataFrame.from_dict(response.json()['results'])\n",
        "df"
      ],
      "id": "f042cd3b",
      "execution_count": null,
      "outputs": []
    },
    {
      "cell_type": "markdown",
      "metadata": {},
      "source": [
        "### 7. List the most popular Mealplans"
      ],
      "id": "3b7388b3"
    },
    {
      "cell_type": "code",
      "metadata": {},
      "source": [
        "headers = {\n",
        "    'username': 'tester',\n",
        "    'password': 'test'\n",
        "}\n",
        "response = requests.get(url+'/mealplans/popularity', headers=headers)\n",
        "df = pandas.DataFrame.from_dict(response.json()['results'])\n",
        "df"
      ],
      "id": "eae4f0c2",
      "execution_count": null,
      "outputs": []
    },
    {
      "cell_type": "markdown",
      "metadata": {},
      "source": [
        "### 8. List all users without a meal plan"
      ],
      "id": "cfbe6b05"
    },
    {
      "cell_type": "code",
      "metadata": {},
      "source": [
        "headers = {\n",
        "    'username': 'tester',\n",
        "    'password': 'test',\n",
        "    'mealplan-id': '-1'\n",
        "}\n",
        "response = requests.get(url+'/users/mealplans', headers=headers)\n",
        "df = pandas.DataFrame.from_dict(response.json()['results'])\n",
        "df"
      ],
      "id": "e21a85ad",
      "execution_count": null,
      "outputs": []
    },
    {
      "cell_type": "markdown",
      "metadata": {},
      "source": [
        "### 9. List all users who have the \"Weight Gain\" mealplan and has the \"Weight Gain\" goal"
      ],
      "id": "ff94b84c"
    },
    {
      "cell_type": "code",
      "metadata": {},
      "source": [
        "headers = {\n",
        "    'username': 'dellimorez',\n",
        "    'password': 'password1',\n",
        "    'mealplan-id': '3',\n",
        "    'goal-id': '2'\n",
        "}\n",
        "response = requests.get(url+'/users/mealplans', headers=headers)\n",
        "df = pandas.DataFrame.from_dict(response.json()['results'])\n",
        "df"
      ],
      "id": "602ca288",
      "execution_count": null,
      "outputs": []
    },
    {
      "cell_type": "markdown",
      "metadata": {},
      "source": [
        "### 10. Sort by user about me"
      ],
      "id": "af41662e"
    },
    {
      "cell_type": "code",
      "metadata": {},
      "source": [
        "headers = {\n",
        "    'username': 'tester',\n",
        "    'password': 'test'\n",
        "}\n",
        "response = requests.get(url+'/users/aboutme', headers=headers)\n",
        "df = pandas.DataFrame.from_dict(response.json()['results'])\n",
        "df"
      ],
      "id": "7a8f2b2a",
      "execution_count": null,
      "outputs": []
    },
    {
      "cell_type": "markdown",
      "metadata": {},
      "source": [
        "### 11. Sort by user about me"
      ],
      "id": "91a6e749"
    },
    {
      "cell_type": "code",
      "metadata": {},
      "source": [
        "headers = {\n",
        "    'username': 'tester',\n",
        "    'password': 'test'\n",
        "}\n",
        "response = requests.get(url+'/users/aboutme', headers=headers)\n",
        "df = pandas.DataFrame.from_dict(response.json()['results'])\n",
        "df"
      ],
      "id": "a57e7eb7",
      "execution_count": null,
      "outputs": []
    },
    {
      "cell_type": "markdown",
      "metadata": {},
      "source": [
        "### 12. Sort the recipes by name"
      ],
      "id": "ecb9fd60"
    },
    {
      "cell_type": "code",
      "metadata": {},
      "source": [
        "headers = {\n",
        "    'username': 'tester',\n",
        "    'password': 'test'\n",
        "}\n",
        "response = requests.get(url+'/recipes/name', headers=headers)\n",
        "df = pandas.DataFrame.from_dict(response.json()['results'])\n",
        "df"
      ],
      "id": "660cf7b4",
      "execution_count": null,
      "outputs": []
    },
    {
      "cell_type": "markdown",
      "metadata": {},
      "source": [
        "### 13. List all recipes that are more than 400 calories"
      ],
      "id": "31f9beea"
    },
    {
      "cell_type": "code",
      "metadata": {},
      "source": [
        "headers = {\n",
        "    'username': 'dellimorez',\n",
        "    'password': 'password1',\n",
        "    'limit': '400',\n",
        "    'greater_than': ''\n",
        "}\n",
        "response = requests.get(url+'/recipes/calories', headers=headers)\n",
        "df = pandas.DataFrame.from_dict(response.json()['results'])\n",
        "df"
      ],
      "id": "9a681772",
      "execution_count": null,
      "outputs": []
    },
    {
      "cell_type": "markdown",
      "metadata": {},
      "source": [
        "### 14. Sort by goal name"
      ],
      "id": "b10e3912"
    },
    {
      "cell_type": "code",
      "metadata": {},
      "source": [
        "headers = {\n",
        "    'username': 'dellimorez',\n",
        "    'password': 'password1',\n",
        "    'limit': '400',\n",
        "    'greater_than': ''\n",
        "}\n",
        "response = requests.get(url+'/goals/name', headers=headers)\n",
        "df = pandas.DataFrame.from_dict(response.json()['results'])\n",
        "df"
      ],
      "id": "fc0aff73",
      "execution_count": null,
      "outputs": []
    },
    {
      "cell_type": "markdown",
      "metadata": {},
      "source": [
        "### 15. Number of Users using the ProteinPunch MealPlan"
      ],
      "id": "5fc8a40d"
    },
    {
      "cell_type": "code",
      "metadata": {},
      "source": [
        "headers = {\n",
        "    'username': 'dellimorez',\n",
        "    'password': 'password1',\n",
        "    'mealplan-id': '1'\n",
        "}\n",
        "response = requests.get(url+'/mealplans/popularity', headers=headers)\n",
        "df = pandas.DataFrame.from_dict(response.json()['results'])\n",
        "df"
      ],
      "id": "54f93f14",
      "execution_count": null,
      "outputs": []
    },
    {
      "cell_type": "markdown",
      "metadata": {},
      "source": [
        "### 16. Sort users who have the goal maintaining weight"
      ],
      "id": "1fd92d90"
    },
    {
      "cell_type": "code",
      "metadata": {},
      "source": [
        "headers = {\n",
        "    'username': 'dellimorez',\n",
        "    'password': 'password1',\n",
        "    'goal-id': '3'\n",
        "}\n",
        "response = requests.get(url+'/users/goals', headers=headers)\n",
        "df = pandas.DataFrame.from_dict(response.json()['results'])\n",
        "df"
      ],
      "id": "ef716fb1",
      "execution_count": null,
      "outputs": []
    },
    {
      "cell_type": "markdown",
      "metadata": {},
      "source": [
        "### 17. Sort by most popular goals"
      ],
      "id": "d2b1e4d1"
    },
    {
      "cell_type": "code",
      "metadata": {},
      "source": [
        "headers = {\n",
        "    'username': 'dellimorez',\n",
        "    'password': 'password1'\n",
        "}\n",
        "response = requests.get(url+'/goals/popularity', headers=headers)\n",
        "df = pandas.DataFrame.from_dict(response.json()['results'])\n",
        "df"
      ],
      "id": "5b57154e",
      "execution_count": null,
      "outputs": []
    },
    {
      "cell_type": "markdown",
      "metadata": {},
      "source": [
        "### 18. List all users who have the goal set to “lose weight” and has the lose weight meal plan"
      ],
      "id": "f9b31ba5"
    },
    {
      "cell_type": "code",
      "metadata": {},
      "source": [
        "headers = {\n",
        "    'username': 'dellimorez',\n",
        "    'password': 'password1',\n",
        "    'mealplan-id': '2',\n",
        "    'goal-id': '1'\n",
        "}\n",
        "response = requests.get(url+'/users/goals', headers=headers)\n",
        "df = pandas.DataFrame.from_dict(response.json()['results'])\n",
        "df"
      ],
      "id": "75b6002b",
      "execution_count": null,
      "outputs": []
    },
    {
      "cell_type": "markdown",
      "metadata": {},
      "source": [
        "### 19. Order recipes by Calories"
      ],
      "id": "67b744eb"
    },
    {
      "cell_type": "code",
      "metadata": {},
      "source": [
        "headers = {\n",
        "    'username': 'tester',\n",
        "    'password': 'test'\n",
        "}\n",
        "response = requests.get(url+'/recipes/calories?direction=1', headers=headers)\n",
        "df = pandas.DataFrame.from_dict(response.json()['results'])\n",
        "df"
      ],
      "id": "f6b64c1b",
      "execution_count": null,
      "outputs": []
    },
    {
      "cell_type": "markdown",
      "metadata": {},
      "source": [
        "### 20. List Goals by popularity of users not using the \"Protein Punch\" mealplan"
      ],
      "id": "6c3083f5"
    },
    {
      "cell_type": "code",
      "metadata": {},
      "source": [
        "headers = {\n",
        "    'username': 'tester',\n",
        "    'password': 'test',\n",
        "    'mealplan-id': '1',\n",
        "    'exclude': 'True'\n",
        "}\n",
        "response = requests.get(url+'/goals/popularity', headers=headers)\n",
        "df = pandas.DataFrame.from_dict(response.json()['results'])\n",
        "df"
      ],
      "id": "998563e0",
      "execution_count": null,
      "outputs": []
    },
    {
      "cell_type": "markdown",
      "metadata": {},
      "source": [
        "## Future Considerations\n",
        "As we look towards the future expansion ( looking at a possible product) of our nutritional database project, several  enhancements stand out, each aiming to significantly elevate the platform's impact and user experience.\n",
        "\n",
        "Firstly, introducing an Interactive Recipe Customization feature would mark a significant advancement. This would empower users to modify and refine their recipes directly within the database, allowing for a high degree of personalization. Such a feature is not only beneficial for adjusting to personal taste preferences but also essential for correcting any errors, ensuring the recipes evolve and improve over time.\n",
        "\n",
        "Implementing a reward system where users earn points for consistently logging meals or sticking to meal plans, we add a layer of motivation and fun to the platform. These points could be redeemed for exclusive recipe suggestions or additional customization options, creating an engaging and rewarding user experience.\n",
        "\n",
        "Lastly, the possibility of Integration with Fitness Trackers opens a new dimension for the project. Collaborating with fitness apps or devices to incorporate exercise data would enable us to provide dietary recommendations that are informed by individual physical activity levels. This holistic approach to health and wellness would offer users a more comprehensive and tailored health management experience.\n",
        "\n",
        "\n",
        "## Reflection\n",
        "Overall the project was a success. We picked up a lot of technical skills, including writing SQL queries, working with FLASK, understanding JSON files, creating an API, etc, all while creating our database. Our design changed quite a bit throughout the course of the semester; however, we are very pleased with the way it turned out. We had to update the way our entities related to one another in the initial stages of the project, but once we got that smoothened out, the project went smoothly. The fact the homework assignments were so closely related to the project really helped guide us along. We now have an amazing database with information to help customize and track dietary habits to attain user-specific health goals."
      ],
      "id": "5b0faa62"
    }
  ],
  "metadata": {
    "kernelspec": {
      "name": "python3",
      "language": "python",
      "display_name": "Python 3 (ipykernel)"
    }
  },
  "nbformat": 4,
  "nbformat_minor": 5
}